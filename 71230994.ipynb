{
 "cells": [
  {
   "cell_type": "code",
   "execution_count": 2,
   "metadata": {},
   "outputs": [
    {
     "name": "stdout",
     "output_type": "stream",
     "text": [
      "33 bukan bilangan prima.\n"
     ]
    }
   ],
   "source": [
    "#1\n",
    "def prima(angka, bagi=2):\n",
    "    if angka < 2:\n",
    "        return False\n",
    "    if bagi**2 > angka:\n",
    "        return True\n",
    "    if angka % bagi == 0:\n",
    "        return False\n",
    "    return prima(angka, bagi + 1)\n",
    "\n",
    "angka = int(input(\"Masukkan angka yang mau dicek: \"))    \n",
    "if prima(angka):\n",
    "    print(f\"{angka} adalah bilangan prima.\")\n",
    "else:\n",
    "    print(f\"{angka} bukan bilangan prima.\")\n"
   ]
  },
  {
   "cell_type": "code",
   "execution_count": 27,
   "metadata": {},
   "outputs": [
    {
     "name": "stdout",
     "output_type": "stream",
     "text": [
      "\"kasur\" bukan palindrome.\n"
     ]
    }
   ],
   "source": [
    "#2\n",
    "def palindrome(kalimat):\n",
    "    \n",
    "    # kata_bersih = ''.join(char.lower() for char in kata if char.isalpha())\n",
    "    \n",
    "    kata_bersih = ''\n",
    "    for char in kalimat.lower():\n",
    "        if char.isalpha():\n",
    "            kata_bersih += char\n",
    "               \n",
    "    if len(kata_bersih) < 2:\n",
    "        return True\n",
    "\n",
    "    if kata_bersih[0] != kata_bersih[-1]:\n",
    "        return False\n",
    "    return palindrome(kata_bersih[1:-1])\n",
    "\n",
    "\n",
    "x = input(\"Masukkan kata yang mau dicek: \")\n",
    "if palindrome(x):\n",
    "    print(f'\"{x}\" adalah palindrome.')\n",
    "else:\n",
    "    print(f'\"{x}\" bukan palindrome.')\n"
   ]
  },
  {
   "cell_type": "code",
   "execution_count": 1,
   "metadata": {},
   "outputs": [
    {
     "name": "stdout",
     "output_type": "stream",
     "text": [
      "Jumlah deret ganjil dari 10 bilangan adalah 100.\n"
     ]
    }
   ],
   "source": [
    "#3\n",
    "def deret_ganjil(n):\n",
    "    \n",
    "    if n == 0:\n",
    "        return 0\n",
    "    if n == 1:\n",
    "        return 1 \n",
    "    else:\n",
    "        return (2 * n - 1) + deret_ganjil(n - 1)\n",
    "\n",
    "n = int(input(\"Masukkan jumlah ganjil yang ingin dicek: \"))\n",
    "result = deret_ganjil(n)\n",
    "if result == 0:\n",
    "    print(\"Tidak ada bilangan ganjil yang dapat dijumlahkan\") \n",
    "elif result == 1:\n",
    "    print(f\"Hanya ada satu bilangan ganjil, yaitu {n}\")\n",
    "else:\n",
    "    print(f\"Jumlah deret ganjil dari {n} bilangan adalah {result}.\")\n"
   ]
  },
  {
   "cell_type": "code",
   "execution_count": 92,
   "metadata": {},
   "outputs": [
    {
     "name": "stdout",
     "output_type": "stream",
     "text": [
      "Jumlah digit dari (xxtoto77) adalah: 14\n"
     ]
    }
   ],
   "source": [
    "#4\n",
    "def sum_kata(kata):\n",
    "    if kata == \"\":\n",
    "        return 0\n",
    "    \n",
    "    if kata[0].isdigit():\n",
    "        return int(kata[0]) + sum_kata(kata[1:])\n",
    "    else:\n",
    "        return sum_kata(kata[1:])\n",
    "\n",
    "input_str = str(input(\"Masukkan string yang ingin dihitung jumlah digitnya: \"))\n",
    "result = sum_kata(input_str)\n",
    "print(f\"Jumlah digit dari ({input_str}) adalah: {result}\")\n"
   ]
  },
  {
   "cell_type": "code",
   "execution_count": 91,
   "metadata": {},
   "outputs": [
    {
     "name": "stdout",
     "output_type": "stream",
     "text": [
      "Kombinasi dari 4 pilihan yang diambil 2 adalah 6.\n"
     ]
    }
   ],
   "source": [
    "def kombinasi(pilihan, diambil):\n",
    "    if pilihan < diambil:\n",
    "        return 0\n",
    "    \n",
    "    if diambil == 0 or diambil == pilihan:\n",
    "        return 1\n",
    "    \n",
    "    return kombinasi(pilihan - 1, diambil - 1) + kombinasi(pilihan - 1, diambil)\n",
    "\n",
    "# Testing the function\n",
    "n = int(input(\"Masukkan jumlah pilihan: \"))\n",
    "k = int(input(\"Masukkan pilihan yang diambil: \"))\n",
    "result = kombinasi(n, k)\n",
    "print(f\"Kombinasi dari {n} pilihan yang diambil {k} adalah {result}.\")\n"
   ]
  }
 ],
 "metadata": {
  "kernelspec": {
   "display_name": "base",
   "language": "python",
   "name": "python3"
  },
  "language_info": {
   "codemirror_mode": {
    "name": "ipython",
    "version": 3
   },
   "file_extension": ".py",
   "mimetype": "text/x-python",
   "name": "python",
   "nbconvert_exporter": "python",
   "pygments_lexer": "ipython3",
   "version": "3.11.5"
  }
 },
 "nbformat": 4,
 "nbformat_minor": 2
}
